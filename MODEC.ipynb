{
 "cells": [
  {
   "cell_type": "code",
   "execution_count": 1,
   "metadata": {},
   "outputs": [],
   "source": [
    "import json\n",
    "\n",
    "from pyspark.sql import SQLContext\n",
    "from pyspark import SparkContext\n",
    "from pyspark.sql import SparkSession, DataFrame\n",
    "from pyspark.sql.functions import col, regexp_replace, expr"
   ]
  },
  {
   "cell_type": "markdown",
   "metadata": {},
   "source": [
    "### Initiate spark session"
   ]
  },
  {
   "cell_type": "code",
   "execution_count": 2,
   "metadata": {},
   "outputs": [
    {
     "data": {
      "text/html": [
       "\n",
       "        <div>\n",
       "            <p><b>SparkContext</b></p>\n",
       "\n",
       "            <p><a href=\"http://2348613986f6:4040\">Spark UI</a></p>\n",
       "\n",
       "            <dl>\n",
       "              <dt>Version</dt>\n",
       "                <dd><code>v3.0.1</code></dd>\n",
       "              <dt>Master</dt>\n",
       "                <dd><code>local[*]</code></dd>\n",
       "              <dt>AppName</dt>\n",
       "                <dd><code>Cognitivo AI</code></dd>\n",
       "            </dl>\n",
       "        </div>\n",
       "        "
      ],
      "text/plain": [
       "<SparkContext master=local[*] appName=Cognitivo AI>"
      ]
     },
     "execution_count": 2,
     "metadata": {},
     "output_type": "execute_result"
    }
   ],
   "source": [
    "spark = SparkSession.builder \\\n",
    "    .appName('Cognitivo AI') \\\n",
    "    .master('local[*]') \\\n",
    "    .getOrCreate()\n",
    "\n",
    "spark.sparkContext"
   ]
  },
  {
   "cell_type": "markdown",
   "metadata": {},
   "source": [
    "### Parameters"
   ]
  },
  {
   "cell_type": "code",
   "execution_count": 3,
   "metadata": {},
   "outputs": [],
   "source": [
    "equipment_sensors_file = 'data/equipment_sensors.csv'\n",
    "equipment_file = 'data/equipment.json'\n",
    "equipment_failure_file = 'data/equipment_failure_sensors.log'"
   ]
  },
  {
   "cell_type": "code",
   "execution_count": 4,
   "metadata": {},
   "outputs": [],
   "source": [
    "with open(equipment_file, 'r') as file_object:\n",
    "    n_json = json.loads(file_object.read())\n",
    "    \n",
    "equipment = spark.sparkContext.parallelize(n_json).map(lambda x: json.dumps(x))\n",
    "equipment = spark.read.json(equipment)"
   ]
  },
  {
   "cell_type": "code",
   "execution_count": 5,
   "metadata": {
    "scrolled": false
   },
   "outputs": [],
   "source": [
    "equipment_sensors = spark.read.format('csv') \\\n",
    "        .option('header',True) \\\n",
    "        .option('delimiter', ';') \\\n",
    "        .load(equipment_sensors_file)"
   ]
  },
  {
   "cell_type": "code",
   "execution_count": 6,
   "metadata": {},
   "outputs": [],
   "source": [
    "equipment_failure = spark.read.format('csv') \\\n",
    "        .option('delimiter', '\\t') \\\n",
    "        .load(equipment_failure_file)"
   ]
  },
  {
   "cell_type": "markdown",
   "metadata": {},
   "source": [
    "## Answers"
   ]
  },
  {
   "cell_type": "markdown",
   "metadata": {},
   "source": [
    "1 – Total equipment failures that happened;\n",
    "\n",
    "2 – Which equipment code had most failures;\n",
    "\n",
    "3 – Average amount of failures across equipment group, ordering by the amount of failures in ascending order."
   ]
  },
  {
   "cell_type": "code",
   "execution_count": 7,
   "metadata": {},
   "outputs": [],
   "source": [
    "equipment.createOrReplaceTempView('equipment')\n",
    "equipment_sensors.createOrReplaceTempView('equipment_sensors')\n",
    "equipment_failure.createOrReplaceTempView('equipment_failure')"
   ]
  },
  {
   "cell_type": "code",
   "execution_count": 8,
   "metadata": {},
   "outputs": [],
   "source": [
    "equipment_failure = spark.sql(sqlQuery = '''\n",
    "    SELECT \n",
    "        replace(replace(_c0, '[', ''), ']', '') as date, \n",
    "        _c1 as status, \n",
    "        replace(replace(_c2, 'sensor[', ''), ']:', '') as sensor_id, \n",
    "        replace(_c4, ', vibration', '') as temperature,\n",
    "        replace(_c5, ')', '') as vibration\n",
    "    FROM equipment_failure\n",
    "''');\n",
    "\n",
    "equipment_failure.createOrReplaceTempView('equipment_failure')"
   ]
  },
  {
   "cell_type": "code",
   "execution_count": 9,
   "metadata": {},
   "outputs": [],
   "source": [
    "total_equipment_failures = spark.sql(sqlQuery = '''\n",
    "    SELECT count(*)\n",
    "    FROM equipment_failure\n",
    "    where status = 'ERROR'\n",
    "''');"
   ]
  },
  {
   "cell_type": "code",
   "execution_count": 10,
   "metadata": {},
   "outputs": [
    {
     "name": "stdout",
     "output_type": "stream",
     "text": [
      "+--------+\n",
      "|count(1)|\n",
      "+--------+\n",
      "|   36979|\n",
      "+--------+\n",
      "\n"
     ]
    }
   ],
   "source": [
    "total_equipment_failures.show()"
   ]
  },
  {
   "cell_type": "code",
   "execution_count": 11,
   "metadata": {},
   "outputs": [],
   "source": [
    "equipment_sensors_join = equipment_failure.join(\n",
    "    equipment_sensors, \n",
    "    equipment_failure.sensor_id == equipment_sensors.sensor_id)\n",
    "\n",
    "equipment_sensors_join.createOrReplaceTempView('equipment_sensors_join')"
   ]
  },
  {
   "cell_type": "code",
   "execution_count": 12,
   "metadata": {},
   "outputs": [],
   "source": [
    "most_failure_equipment = spark.sql(sqlQuery = '''\n",
    "    SELECT count(*), equipment_id\n",
    "    FROM equipment_sensors_join\n",
    "    where status = 'ERROR'\n",
    "    group by 2\n",
    "    order by 1 desc\n",
    "    limit 1\n",
    "''');"
   ]
  },
  {
   "cell_type": "code",
   "execution_count": 13,
   "metadata": {},
   "outputs": [
    {
     "name": "stdout",
     "output_type": "stream",
     "text": [
      "+--------+------------+\n",
      "|count(1)|equipment_id|\n",
      "+--------+------------+\n",
      "|    3753|           3|\n",
      "+--------+------------+\n",
      "\n"
     ]
    }
   ],
   "source": [
    "most_failure_equipment.show()"
   ]
  },
  {
   "cell_type": "code",
   "execution_count": 14,
   "metadata": {},
   "outputs": [],
   "source": [
    "e = equipment.alias('e')\n",
    "es = equipment_sensors_join.alias('es')\n",
    "\n",
    "e = e.selectExpr('equipment_id as id', 'code as code', 'group_name as group_name')\n",
    "\n",
    "\n",
    "equipment_full_join = e.join(\n",
    "    es, \n",
    "    e.id == es.equipment_id)\n",
    "\n",
    "equipment_full_join.createOrReplaceTempView('equipment_full_join')"
   ]
  },
  {
   "cell_type": "code",
   "execution_count": 15,
   "metadata": {},
   "outputs": [],
   "source": [
    "avg_amount_failures = spark.sql(sqlQuery = '''\n",
    "    SELECT avg(total_failures), sum(total_failures), group_name\n",
    "    FROM (\n",
    "        select count(*) as total_failures, equipment_id, group_name \n",
    "            from equipment_full_join\n",
    "        where status = 'ERROR'\n",
    "        group by 2, 3\n",
    "        )\n",
    "        group by 3\n",
    "    order by 2 desc\n",
    "''');"
   ]
  },
  {
   "cell_type": "code",
   "execution_count": 16,
   "metadata": {},
   "outputs": [
    {
     "name": "stdout",
     "output_type": "stream",
     "text": [
      "+-------------------+-------------------+----------+\n",
      "|avg(total_failures)|sum(total_failures)|group_name|\n",
      "+-------------------+-------------------+----------+\n",
      "|             2703.5|              10814|  FGHQWR2Q|\n",
      "|             3033.5|               6067|  9N127Z5P|\n",
      "|             2881.0|               5762|  NQWPA8D3|\n",
      "|             2726.5|               5453|  PA92NCXZ|\n",
      "|             2592.0|               5184|  VAPQY59S|\n",
      "|             3699.0|               3699|  Z9K1SAP4|\n",
      "+-------------------+-------------------+----------+\n",
      "\n"
     ]
    }
   ],
   "source": [
    "avg_amount_failures.show()"
   ]
  }
 ],
 "metadata": {
  "kernelspec": {
   "display_name": "Python 3",
   "language": "python",
   "name": "python3"
  },
  "language_info": {
   "codemirror_mode": {
    "name": "ipython",
    "version": 3
   },
   "file_extension": ".py",
   "mimetype": "text/x-python",
   "name": "python",
   "nbconvert_exporter": "python",
   "pygments_lexer": "ipython3",
   "version": "3.8.6"
  }
 },
 "nbformat": 4,
 "nbformat_minor": 4
}
